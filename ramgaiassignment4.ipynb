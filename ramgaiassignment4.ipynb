{
 "cells": [
  {
   "cell_type": "markdown",
   "id": "4668d110-b355-42a0-b436-5708b265158a",
   "metadata": {},
   "source": [
    "### Assignment 4\n",
    "### Rachana Amgai\n",
    "### 9/16/2024"
   ]
  },
  {
   "cell_type": "code",
   "execution_count": null,
   "id": "7c6e93b8-d6d4-4238-bd6f-cb685947159a",
   "metadata": {},
   "outputs": [],
   "source": [
    "import numpy as np\n",
    "import sympy as sp"
   ]
  },
  {
   "cell_type": "markdown",
   "id": "d80fcc29-6459-43ae-a722-33bf71860a20",
   "metadata": {},
   "source": [
    "### 1 Calculating Limits Numerically:"
   ]
  },
  {
   "cell_type": "code",
   "execution_count": null,
   "id": "31386f6f-23a5-434b-a5e6-0d8e044d2524",
   "metadata": {},
   "outputs": [],
   "source": [
    "-creating function f(x)\n",
    "-values of x approaching 3 from both sides\n",
    "-evaluating the results of f(x) at these specific values\n",
    "-printing results\n",
    "Outcome: The limit is consistent with the direct substitution of x=3"
   ]
  },
  {
   "cell_type": "code",
   "execution_count": 32,
   "id": "2d96268e-f208-466b-be02-da1ebabc7e0d",
   "metadata": {},
   "outputs": [
    {
     "name": "stdout",
     "output_type": "stream",
     "text": [
      "f(2.9) = 38.178\n",
      "f(2.99) = 42.50179800000001\n",
      "f(2.999) = 42.95001799800001\n",
      "f(3.0) = 43.0\n",
      "f(3.01) = 43.50180199999999\n",
      "f(3.001) = 43.050018001999995\n",
      "f(3.1) = 48.18200000000001\n"
     ]
    }
   ],
   "source": [
    "def f(x):\n",
    "  return 2 * (x**3) - 4 * x + 1\n",
    "x_values = [2.9,2.99,2.999,3.0,3.01,3.001,3.1]\n",
    "results = {x: f(x) for x in x_values}\n",
    "for x, fx in results.items():\n",
    "  print(f'f({x}) = {fx}')"
   ]
  },
  {
   "cell_type": "code",
   "execution_count": null,
   "id": "53f0a0e8-8171-4a75-81df-8b82947253ab",
   "metadata": {},
   "outputs": [],
   "source": [
    "-creating function g(x)\n",
    "-values of x approaching 0 from both sides to see the behaviour\n",
    "-evaluating g(x) at these specific values\n",
    "-printing results\n"
   ]
  },
  {
   "cell_type": "code",
   "execution_count": null,
   "id": "d0750867-787c-4545-bbd0-cb4866c7db14",
   "metadata": {},
   "outputs": [],
   "source": [
    "Outcome: The limit of g(x) as x approaches 0 is known to be 1, based on the Taylor series expansion\n",
    "e^x."
   ]
  },
  {
   "cell_type": "code",
   "execution_count": 94,
   "id": "658ee648-69d5-4c91-8f68-383fcb6df859",
   "metadata": {},
   "outputs": [
    {
     "name": "stdout",
     "output_type": "stream",
     "text": [
      "g(-1e-05) = 0.9999950000172396\n",
      "g(-1e-06) = 0.9999994999843054\n",
      "g(-1e-07) = 0.999999949513608\n",
      "g(1e-07) = 1.0000000494336803\n",
      "g(1e-06) = 1.0000004999621837\n",
      "g(1e-05) = 1.000005000006965\n"
     ]
    }
   ],
   "source": [
    "import numpy as np\n",
    "def g(x):\n",
    "    return (np.exp(x) - 1) / x\n",
    "x_ = np.array([-1e-5,-1e-6,-1e-7,1e-7,1e-6,1e-5])\n",
    "g_values = g(x_)\n",
    "for x, g_val in zip(x_, g_values):\n",
    "    print(f'g({x}) = {g_val}')"
   ]
  },
  {
   "cell_type": "code",
   "execution_count": null,
   "id": "b041d436-a3c5-4635-85f2-5ff0c76496e4",
   "metadata": {},
   "outputs": [],
   "source": [
    "#Average Rate of Change:\n",
    "-defining the function f(x) = 3x2\n",
    "-calculating f(a) and f(b)\n",
    "-calculating the average rate of change\n",
    "-setting an example use\n",
    "-printing value\n",
    "Outcome: Function returns the computed average rate of change"
   ]
  },
  {
   "cell_type": "code",
   "execution_count": 67,
   "id": "94e5eb95-3f69-4ccb-9be8-b43694d95e72",
   "metadata": {},
   "outputs": [
    {
     "name": "stdout",
     "output_type": "stream",
     "text": [
      "18.0\n"
     ]
    }
   ],
   "source": [
    "def average_rate_of_change(a,b):\n",
    "    def f(x):\n",
    "        return 3 * (x**2)\n",
    "    fa = f(a)\n",
    "    fb = f(b)\n",
    "    average_rate = (fb-fa) / (b-a)\n",
    "    return average_rate\n",
    "a = 2\n",
    "b = 4\n",
    "result = average_rate_of_change(a,b)\n",
    "print(result)"
   ]
  },
  {
   "cell_type": "markdown",
   "id": "8192c6c0-0686-408f-b2f6-23e7ef379dd1",
   "metadata": {},
   "source": [
    "### 2 Average Rate of Change to Instantaneous Rate of Change"
   ]
  },
  {
   "cell_type": "code",
   "execution_count": null,
   "id": "85f9368e-d0f5-4d58-be02-f94d194df2f2",
   "metadata": {},
   "outputs": [],
   "source": [
    "A-C:\n",
    "-defining the function f(x) = 4.9t2\n",
    "-calculating f(x) and f(y)\n",
    "-calculating the average rate of change\n",
    "-printing the results with the given values"
   ]
  },
  {
   "cell_type": "code",
   "execution_count": 70,
   "id": "41b02717-23f2-4051-a7f5-5467a8652ec2",
   "metadata": {},
   "outputs": [
    {
     "name": "stdout",
     "output_type": "stream",
     "text": [
      "Average rate of change of distance:  53.9\n",
      "Average rate of change of distance:  51.45\n",
      "Average rate of change of distance:  49.49\n"
     ]
    }
   ],
   "source": [
    "def avg_rate_of_change(x,y):\n",
    "    def f(t):\n",
    "        return 4.9 * (t**2)\n",
    "    fx = f(x)\n",
    "    fy = f(y) \n",
    "    average_rate = (fy-fx) / (y-x)\n",
    "    return average_rate\n",
    "print('Average rate of change of distance: ', round(avg_rate_of_change(5,6), 2))\n",
    "print('Average rate of change of distance: ', round(avg_rate_of_change(5,5.5),2))\n",
    "print('Average rate of change of distance: ', round(avg_rate_of_change(5,5.1),2))"
   ]
  },
  {
   "cell_type": "code",
   "execution_count": null,
   "id": "954060dd-0312-4bdc-9a5f-ed910ce856ff",
   "metadata": {},
   "outputs": [],
   "source": [
    "D-F:\n",
    "-defining the variable and function\n",
    "-computing the derivative at t = 5\n",
    "-evaluating the derivative at t = 5 -printing the variable holding the derivative\n",
    "-calculating derivative of f at t = 5\n",
    "Outcome: 49 meters per second is the Instantaneous speed of the baseball"
   ]
  },
  {
   "cell_type": "code",
   "execution_count": 97,
   "id": "5f8040e9-6c54-4d24-9bd8-f268ba28f12a",
   "metadata": {},
   "outputs": [
    {
     "name": "stdout",
     "output_type": "stream",
     "text": [
      "Instantaneous Rate of Change:  49.0000000000000\n",
      "Derivative of f:  9.8*t\n",
      "Derivative of f at t = 5: 49.0\n"
     ]
    }
   ],
   "source": [
    "import sympy as sp\n",
    "t = sp.symbols('t')\n",
    "f = 4.9 * (t**2)\n",
    "f_prime = sp.diff(f,t)\n",
    "inst_rate_of_change = f_prime.subs(t,5)\n",
    "derivative_at_5 = 9.8 * 5\n",
    "print('Instantaneous Rate of Change: ', inst_rate_of_change)\n",
    "print('Derivative of f: ',f_prime)\n",
    "print('Derivative of f at t = 5:',derivative_at_5)"
   ]
  },
  {
   "cell_type": "markdown",
   "id": "389b448f-8a8d-4bbe-8f27-0ea6f387a563",
   "metadata": {},
   "source": [
    "### 3 Calculating and Interpreting Partial Derivatives"
   ]
  },
  {
   "cell_type": "code",
   "execution_count": null,
   "id": "ed2ace94-3510-44d8-bd9c-965e040edebd",
   "metadata": {},
   "outputs": [],
   "source": [
    "A:\n",
    "-defining the values for the condition c and age y\n",
    "-defining the coefficient and intercept from the model\n",
    "-calculating the predicting selling price"
   ]
  },
  {
   "cell_type": "code",
   "execution_count": 83,
   "id": "c182322d-1ebb-40c6-923a-746b3df2abdd",
   "metadata": {},
   "outputs": [
    {
     "name": "stdout",
     "output_type": "stream",
     "text": [
      "The predicted selling price is: $ 26200\n"
     ]
    }
   ],
   "source": [
    "condition = 8\n",
    "age = 5\n",
    "intercept = 16000\n",
    "coefficient_of_condition = 2400\n",
    "coefficient_of_age = 1800\n",
    "predicted_price = intercept + (coefficient_of_condition * condition)-(coefficient_of_age * age)\n",
    "print('The predicted selling price is: $', predicted_price)"
   ]
  },
  {
   "cell_type": "markdown",
   "id": "cff7c57e-aef6-42ce-b7ff-a66515ad6275",
   "metadata": {},
   "source": [
    "B:\n",
    "-defining the symbols"
   ]
  },
  {
   "cell_type": "markdown",
   "id": "7af5c321-7c14-4193-a54c-a8ba4d055f60",
   "metadata": {},
   "source": [
    "-defining the function\n",
    "-calculating the partial derivative of P with respect to C Outcome: It indicates that for each\n",
    "one-point increase in the rating, the predicted value of the vehicle appreciates by by $2400"
   ]
  },
  {
   "cell_type": "code",
   "execution_count": 99,
   "id": "9c80a484-c28b-471c-afc1-b9c30a5d9393",
   "metadata": {},
   "outputs": [
    {
     "name": "stdout",
     "output_type": "stream",
     "text": [
      "The partial derivative of P with respect to C:  2400\n"
     ]
    }
   ],
   "source": [
    "import sympy as sp\n",
    "C, Y = sp.symbols('C Y')\n",
    "P = 1600 + 2400 * C - 1800 * Y\n",
    "partial_derivative = sp.diff(P,C)\n",
    "print('The partial derivative of P with respect to C: ', partial_derivative)"
   ]
  },
  {
   "cell_type": "code",
   "execution_count": null,
   "id": "70b95ab1-e729-4968-ac4b-0e63e248e0c3",
   "metadata": {},
   "outputs": [],
   "source": [
    "C: -calculating the partial derivative of P with respect to Y Outcome: The value indicates that for\n",
    "each additional year of the car’s age, the predicted value depreciates by $1800"
   ]
  },
  {
   "cell_type": "code",
   "execution_count": 101,
   "id": "72ba3a1a-3684-4e1c-a067-5e15c5d962c8",
   "metadata": {},
   "outputs": [
    {
     "name": "stdout",
     "output_type": "stream",
     "text": [
      "The partial derivative of P with respect to y:  -1800\n"
     ]
    }
   ],
   "source": [
    "import sympy as sp\n",
    "partial_deriv = sp.diff(P,Y)\n",
    "print('The partial derivative of P with respect to y: ', partial_deriv)"
   ]
  },
  {
   "cell_type": "code",
   "execution_count": null,
   "id": "332a9110-15bd-48e6-9bcb-5156e030d8fe",
   "metadata": {},
   "outputs": [],
   "source": []
  }
 ],
 "metadata": {
  "kernelspec": {
   "display_name": "Python 3 (ipykernel)",
   "language": "python",
   "name": "python3"
  },
  "language_info": {
   "codemirror_mode": {
    "name": "ipython",
    "version": 3
   },
   "file_extension": ".py",
   "mimetype": "text/x-python",
   "name": "python",
   "nbconvert_exporter": "python",
   "pygments_lexer": "ipython3",
   "version": "3.12.4"
  }
 },
 "nbformat": 4,
 "nbformat_minor": 5
}
